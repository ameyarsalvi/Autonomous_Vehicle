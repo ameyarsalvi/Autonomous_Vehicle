{
 "cells": [
  {
   "cell_type": "code",
   "execution_count": 1,
   "metadata": {},
   "outputs": [
    {
     "name": "stderr",
     "output_type": "stream",
     "text": [
      "Using TensorFlow backend.\n"
     ]
    }
   ],
   "source": [
    "import numpy as np\n",
    "import matplotlib.pyplot as plt\n",
    "from sklearn import datasets\n",
    "from keras.models import Sequential\n",
    "from keras.layers import Dense\n",
    "from keras.optimizers import Adam\n",
    "from keras.utils.np_utils import to_categorical"
   ]
  },
  {
   "cell_type": "code",
   "execution_count": 14,
   "metadata": {},
   "outputs": [],
   "source": [
    "n_pts=500\n",
    "centers=[[-1,1],[-1,-1],[1,-1],[1,1],[0,0]]\n",
    "X,y=datasets.make_blobs(n_samples=n_pts,random_state=123,centers=centers,cluster_std=0.4)"
   ]
  },
  {
   "cell_type": "code",
   "execution_count": 15,
   "metadata": {},
   "outputs": [
    {
     "data": {
      "text/plain": [
       "<matplotlib.collections.PathCollection at 0x2c4b859b788>"
      ]
     },
     "execution_count": 15,
     "metadata": {},
     "output_type": "execute_result"
    },
    {
     "data": {
      "image/png": "[encoded data removed]",
      "text/plain": [
       "<Figure size 432x288 with 1 Axes>"
      ]
     },
     "metadata": {
      "needs_background": "light"
     },
     "output_type": "display_data"
    }
   ],
   "source": [
    "plt.scatter(X[y==0,0],X[y==0,1])\n",
    "plt.scatter(X[y==1,0],X[y==1,1])\n",
    "plt.scatter(X[y==2,0],X[y==2,1])\n",
    "plt.scatter(X[y==3,0],X[y==3,1])\n",
    "plt.scatter(X[y==4,0],X[y==4,1])"
   ]
  },
  {
   "cell_type": "code",
   "execution_count": 16,
   "metadata": {},
   "outputs": [
    {
     "name": "stdout",
     "output_type": "stream",
     "text": [
      "[[0. 0. 0. 1. 0.]\n",
      " [0. 0. 0. 1. 0.]\n",
      " [0. 0. 0. 0. 1.]\n",
      " ...\n",
      " [0. 1. 0. 0. 0.]\n",
      " [0. 0. 1. 0. 0.]\n",
      " [0. 1. 0. 0. 0.]]\n"
     ]
    }
   ],
   "source": [
    "y_cat=to_categorical(y,5)\n",
    "print(y_cat)"
   ]
  },
  {
   "cell_type": "code",
   "execution_count": 17,
   "metadata": {},
   "outputs": [],
   "source": [
    "model=Sequential()\n",
    "model.add(Dense(units=5,input_shape=(2,),activation='softmax'))\n",
    "model.compile(Adam(lr=0.1),loss='categorical_crossentropy',metrics=['accuracy'])\n"
   ]
  },
  {
   "cell_type": "code",
   "execution_count": 18,
   "metadata": {},
   "outputs": [
    {
     "name": "stdout",
     "output_type": "stream",
     "text": [
      "Epoch 1/100\n",
      "500/500 [==============================] - 0s 174us/step - loss: 1.1347 - accuracy: 0.5020\n",
      "Epoch 2/100\n",
      "500/500 [==============================] - 0s 34us/step - loss: 0.5851 - accuracy: 0.8200\n",
      "Epoch 3/100\n",
      "500/500 [==============================] - 0s 36us/step - loss: 0.4015 - accuracy: 0.9180\n",
      "Epoch 4/100\n",
      "500/500 [==============================] - 0s 39us/step - loss: 0.3210 - accuracy: 0.9420\n",
      "Epoch 5/100\n",
      "500/500 [==============================] - 0s 42us/step - loss: 0.2817 - accuracy: 0.9360\n",
      "Epoch 6/100\n",
      "500/500 [==============================] - 0s 40us/step - loss: 0.2559 - accuracy: 0.9420\n",
      "Epoch 7/100\n",
      "500/500 [==============================] - 0s 38us/step - loss: 0.2390 - accuracy: 0.9520\n",
      "Epoch 8/100\n",
      "500/500 [==============================] - 0s 40us/step - loss: 0.2267 - accuracy: 0.9460\n",
      "Epoch 9/100\n",
      "500/500 [==============================] - 0s 42us/step - loss: 0.2174 - accuracy: 0.9500\n",
      "Epoch 10/100\n",
      "500/500 [==============================] - 0s 40us/step - loss: 0.2097 - accuracy: 0.9480\n",
      "Epoch 11/100\n",
      "500/500 [==============================] - 0s 32us/step - loss: 0.2037 - accuracy: 0.9500\n",
      "Epoch 12/100\n",
      "500/500 [==============================] - 0s 38us/step - loss: 0.1977 - accuracy: 0.9500\n",
      "Epoch 13/100\n",
      "500/500 [==============================] - 0s 32us/step - loss: 0.1922 - accuracy: 0.9460\n",
      "Epoch 14/100\n",
      "500/500 [==============================] - 0s 34us/step - loss: 0.1897 - accuracy: 0.9460\n",
      "Epoch 15/100\n",
      "500/500 [==============================] - 0s 36us/step - loss: 0.1857 - accuracy: 0.9480\n",
      "Epoch 16/100\n",
      "500/500 [==============================] - 0s 30us/step - loss: 0.1822 - accuracy: 0.9440\n",
      "Epoch 17/100\n",
      "500/500 [==============================] - 0s 36us/step - loss: 0.1794 - accuracy: 0.9500\n",
      "Epoch 18/100\n",
      "500/500 [==============================] - 0s 32us/step - loss: 0.1769 - accuracy: 0.9460\n",
      "Epoch 19/100\n",
      "500/500 [==============================] - 0s 30us/step - loss: 0.1769 - accuracy: 0.9460\n",
      "Epoch 20/100\n",
      "500/500 [==============================] - 0s 32us/step - loss: 0.1725 - accuracy: 0.9540\n",
      "Epoch 21/100\n",
      "500/500 [==============================] - 0s 33us/step - loss: 0.1713 - accuracy: 0.9500\n",
      "Epoch 22/100\n",
      "500/500 [==============================] - 0s 40us/step - loss: 0.1704 - accuracy: 0.9500\n",
      "Epoch 23/100\n",
      "500/500 [==============================] - 0s 32us/step - loss: 0.1693 - accuracy: 0.9480\n",
      "Epoch 24/100\n",
      "500/500 [==============================] - 0s 32us/step - loss: 0.1674 - accuracy: 0.9480\n",
      "Epoch 25/100\n",
      "500/500 [==============================] - 0s 32us/step - loss: 0.1654 - accuracy: 0.9480\n",
      "Epoch 26/100\n",
      "500/500 [==============================] - 0s 30us/step - loss: 0.1657 - accuracy: 0.9520\n",
      "Epoch 27/100\n",
      "500/500 [==============================] - 0s 34us/step - loss: 0.1632 - accuracy: 0.9540\n",
      "Epoch 28/100\n",
      "500/500 [==============================] - 0s 38us/step - loss: 0.1643 - accuracy: 0.9480\n",
      "Epoch 29/100\n",
      "500/500 [==============================] - 0s 30us/step - loss: 0.1667 - accuracy: 0.9440\n",
      "Epoch 30/100\n",
      "500/500 [==============================] - 0s 30us/step - loss: 0.1612 - accuracy: 0.9480\n",
      "Epoch 31/100\n",
      "500/500 [==============================] - 0s 34us/step - loss: 0.1619 - accuracy: 0.9460\n",
      "Epoch 32/100\n",
      "500/500 [==============================] - 0s 30us/step - loss: 0.1595 - accuracy: 0.9500\n",
      "Epoch 33/100\n",
      "500/500 [==============================] - 0s 39us/step - loss: 0.1604 - accuracy: 0.9520\n",
      "Epoch 34/100\n",
      "500/500 [==============================] - 0s 30us/step - loss: 0.1585 - accuracy: 0.9500\n",
      "Epoch 35/100\n",
      "500/500 [==============================] - 0s 32us/step - loss: 0.1582 - accuracy: 0.9460\n",
      "Epoch 36/100\n",
      "500/500 [==============================] - 0s 34us/step - loss: 0.1573 - accuracy: 0.9500\n",
      "Epoch 37/100\n",
      "500/500 [==============================] - 0s 34us/step - loss: 0.1586 - accuracy: 0.9520\n",
      "Epoch 38/100\n",
      "500/500 [==============================] - 0s 34us/step - loss: 0.1592 - accuracy: 0.9500\n",
      "Epoch 39/100\n",
      "500/500 [==============================] - 0s 34us/step - loss: 0.1581 - accuracy: 0.9480\n",
      "Epoch 40/100\n",
      "500/500 [==============================] - 0s 34us/step - loss: 0.1562 - accuracy: 0.9500\n",
      "Epoch 41/100\n",
      "500/500 [==============================] - 0s 34us/step - loss: 0.1554 - accuracy: 0.9540\n",
      "Epoch 42/100\n",
      "500/500 [==============================] - 0s 30us/step - loss: 0.1558 - accuracy: 0.9500\n",
      "Epoch 43/100\n",
      "500/500 [==============================] - 0s 30us/step - loss: 0.1553 - accuracy: 0.9500\n",
      "Epoch 44/100\n",
      "500/500 [==============================] - 0s 32us/step - loss: 0.1548 - accuracy: 0.9500\n",
      "Epoch 45/100\n",
      "500/500 [==============================] - 0s 32us/step - loss: 0.1559 - accuracy: 0.9500\n",
      "Epoch 46/100\n",
      "500/500 [==============================] - 0s 32us/step - loss: 0.1546 - accuracy: 0.9520\n",
      "Epoch 47/100\n",
      "500/500 [==============================] - 0s 34us/step - loss: 0.1540 - accuracy: 0.9540\n",
      "Epoch 48/100\n",
      "500/500 [==============================] - ETA: 0s - loss: 0.1412 - accuracy: 0.92 - 0s 30us/step - loss: 0.1549 - accuracy: 0.9480\n",
      "Epoch 49/100\n",
      "500/500 [==============================] - 0s 25us/step - loss: 0.1545 - accuracy: 0.9460\n",
      "Epoch 50/100\n",
      "500/500 [==============================] - 0s 43us/step - loss: 0.1565 - accuracy: 0.9500\n",
      "Epoch 51/100\n",
      "500/500 [==============================] - 0s 30us/step - loss: 0.1540 - accuracy: 0.9520\n",
      "Epoch 52/100\n",
      "500/500 [==============================] - 0s 30us/step - loss: 0.1534 - accuracy: 0.9540\n",
      "Epoch 53/100\n",
      "500/500 [==============================] - 0s 32us/step - loss: 0.1540 - accuracy: 0.9500\n",
      "Epoch 54/100\n",
      "500/500 [==============================] - 0s 32us/step - loss: 0.1547 - accuracy: 0.9500\n",
      "Epoch 55/100\n",
      "500/500 [==============================] - 0s 32us/step - loss: 0.1537 - accuracy: 0.9480\n",
      "Epoch 56/100\n",
      "500/500 [==============================] - 0s 36us/step - loss: 0.1544 - accuracy: 0.9500\n",
      "Epoch 57/100\n",
      "500/500 [==============================] - 0s 38us/step - loss: 0.1530 - accuracy: 0.9520\n",
      "Epoch 58/100\n",
      "500/500 [==============================] - 0s 30us/step - loss: 0.1532 - accuracy: 0.9480\n",
      "Epoch 59/100\n",
      "500/500 [==============================] - 0s 32us/step - loss: 0.1527 - accuracy: 0.9540\n",
      "Epoch 60/100\n",
      "500/500 [==============================] - 0s 34us/step - loss: 0.1543 - accuracy: 0.9500\n",
      "Epoch 61/100\n",
      "500/500 [==============================] - 0s 30us/step - loss: 0.1514 - accuracy: 0.9480\n",
      "Epoch 62/100\n",
      "500/500 [==============================] - 0s 40us/step - loss: 0.1531 - accuracy: 0.9440\n",
      "Epoch 63/100\n",
      "500/500 [==============================] - 0s 32us/step - loss: 0.1529 - accuracy: 0.9480\n",
      "Epoch 64/100\n",
      "500/500 [==============================] - 0s 44us/step - loss: 0.1525 - accuracy: 0.9540\n",
      "Epoch 65/100\n",
      "500/500 [==============================] - 0s 36us/step - loss: 0.1528 - accuracy: 0.9520\n",
      "Epoch 66/100\n",
      "500/500 [==============================] - 0s 46us/step - loss: 0.1518 - accuracy: 0.9500\n",
      "Epoch 67/100\n",
      "500/500 [==============================] - 0s 34us/step - loss: 0.1527 - accuracy: 0.9540\n",
      "Epoch 68/100\n",
      "500/500 [==============================] - 0s 36us/step - loss: 0.1516 - accuracy: 0.9540\n",
      "Epoch 69/100\n",
      "500/500 [==============================] - 0s 30us/step - loss: 0.1523 - accuracy: 0.9500\n",
      "Epoch 70/100\n",
      "500/500 [==============================] - 0s 34us/step - loss: 0.1524 - accuracy: 0.9480\n",
      "Epoch 71/100\n",
      "500/500 [==============================] - 0s 42us/step - loss: 0.1518 - accuracy: 0.9480\n",
      "Epoch 72/100\n",
      "500/500 [==============================] - 0s 32us/step - loss: 0.1525 - accuracy: 0.9500\n",
      "Epoch 73/100\n",
      "500/500 [==============================] - 0s 30us/step - loss: 0.1521 - accuracy: 0.9500\n",
      "Epoch 74/100\n",
      "500/500 [==============================] - 0s 32us/step - loss: 0.1511 - accuracy: 0.9480\n",
      "Epoch 75/100\n",
      "500/500 [==============================] - 0s 30us/step - loss: 0.1522 - accuracy: 0.9520\n",
      "Epoch 76/100\n",
      "500/500 [==============================] - 0s 32us/step - loss: 0.1516 - accuracy: 0.9520\n",
      "Epoch 77/100\n",
      "500/500 [==============================] - 0s 36us/step - loss: 0.1556 - accuracy: 0.9500\n",
      "Epoch 78/100\n",
      "500/500 [==============================] - 0s 32us/step - loss: 0.1520 - accuracy: 0.9500\n",
      "Epoch 79/100\n",
      "500/500 [==============================] - 0s 32us/step - loss: 0.1544 - accuracy: 0.9500\n",
      "Epoch 80/100\n",
      "500/500 [==============================] - 0s 30us/step - loss: 0.1536 - accuracy: 0.9500\n",
      "Epoch 81/100\n",
      "500/500 [==============================] - 0s 36us/step - loss: 0.1510 - accuracy: 0.9480\n",
      "Epoch 82/100\n",
      "500/500 [==============================] - 0s 40us/step - loss: 0.1519 - accuracy: 0.9520\n",
      "Epoch 83/100\n",
      "500/500 [==============================] - ETA: 0s - loss: 0.0573 - accuracy: 1.00 - 0s 36us/step - loss: 0.1531 - accuracy: 0.9520\n",
      "Epoch 84/100\n",
      "500/500 [==============================] - 0s 42us/step - loss: 0.1512 - accuracy: 0.9500\n",
      "Epoch 85/100\n",
      "500/500 [==============================] - 0s 32us/step - loss: 0.1511 - accuracy: 0.9480\n",
      "Epoch 86/100\n",
      "500/500 [==============================] - 0s 38us/step - loss: 0.1524 - accuracy: 0.9480\n",
      "Epoch 87/100\n",
      "500/500 [==============================] - 0s 32us/step - loss: 0.1518 - accuracy: 0.9480\n",
      "Epoch 88/100\n",
      "500/500 [==============================] - 0s 32us/step - loss: 0.1511 - accuracy: 0.9520\n",
      "Epoch 89/100\n",
      "500/500 [==============================] - 0s 30us/step - loss: 0.1517 - accuracy: 0.9500\n",
      "Epoch 90/100\n",
      "500/500 [==============================] - 0s 34us/step - loss: 0.1514 - accuracy: 0.9480\n",
      "Epoch 91/100\n",
      "500/500 [==============================] - 0s 32us/step - loss: 0.1532 - accuracy: 0.9500\n",
      "Epoch 92/100\n",
      "500/500 [==============================] - 0s 32us/step - loss: 0.1522 - accuracy: 0.9500\n",
      "Epoch 93/100\n",
      "500/500 [==============================] - 0s 30us/step - loss: 0.1516 - accuracy: 0.9480\n",
      "Epoch 94/100\n",
      "500/500 [==============================] - 0s 32us/step - loss: 0.1524 - accuracy: 0.9520\n",
      "Epoch 95/100\n",
      "500/500 [==============================] - 0s 36us/step - loss: 0.1512 - accuracy: 0.9500\n",
      "Epoch 96/100\n",
      "500/500 [==============================] - 0s 40us/step - loss: 0.1526 - accuracy: 0.9480\n",
      "Epoch 97/100\n",
      "500/500 [==============================] - 0s 32us/step - loss: 0.1523 - accuracy: 0.9460\n",
      "Epoch 98/100\n",
      "500/500 [==============================] - 0s 30us/step - loss: 0.1518 - accuracy: 0.9520\n",
      "Epoch 99/100\n",
      "500/500 [==============================] - 0s 36us/step - loss: 0.1525 - accuracy: 0.9500\n",
      "Epoch 100/100\n",
      "500/500 [==============================] - 0s 34us/step - loss: 0.1508 - accuracy: 0.9520\n"
     ]
    },
    {
     "data": {
      "text/plain": [
       "<keras.callbacks.callbacks.History at 0x2c4b9638888>"
      ]
     },
     "execution_count": 18,
     "metadata": {},
     "output_type": "execute_result"
    }
   ],
   "source": [
    "model.fit(x=X,y=y_cat,verbose=1,batch_size=50,epochs=100)"
   ]
  },
  {
   "cell_type": "code",
   "execution_count": 19,
   "metadata": {},
   "outputs": [],
   "source": [
    "def plot_decision_boundary(X,y_cat,model):\n",
    "    x_span=np.linspace(min(X[:,0])-1,max(X[:,0])+1)\n",
    "    y_span=np.linspace(min(X[:,1])-1,max(X[:,1])+1)\n",
    "    xx,yy=np.meshgrid(x_span,y_span)\n",
    "    xx_,yy_=xx.ravel(),yy.ravel()\n",
    "    grid=np.c_[xx_,yy_]\n",
    "    pred_func=model.predict_classes(grid)\n",
    "    z=pred_func.reshape(xx.shape)\n",
    "    plt.contourf(xx,yy,z)"
   ]
  },
  {
   "cell_type": "code",
   "execution_count": 20,
   "metadata": {},
   "outputs": [
    {
     "data": {
      "text/plain": [
       "<matplotlib.collections.PathCollection at 0x2c4b96d1ac8>"
      ]
     },
     "execution_count": 20,
     "metadata": {},
     "output_type": "execute_result"
    },
    {
     "data": {
      "image/png": "[encoded data removed]",
      "text/plain": [
       "<Figure size 432x288 with 1 Axes>"
      ]
     },
     "metadata": {
      "needs_background": "light"
     },
     "output_type": "display_data"
    }
   ],
   "source": [
    "plot_decision_boundary(X,y_cat,model)\n",
    "plt.scatter(X[y==0,0],X[y==0,1])\n",
    "plt.scatter(X[y==1,0],X[y==1,1])\n",
    "plt.scatter(X[y==2,0],X[y==2,1])\n",
    "plt.scatter(X[y==3,0],X[y==3,1])\n",
    "plt.scatter(X[y==4,0],X[y==4,1])"
   ]
  },
  {
   "cell_type": "code",
   "execution_count": 24,
   "metadata": {},
   "outputs": [
    {
     "name": "stdout",
     "output_type": "stream",
     "text": [
      "Prediction is [3]\n"
     ]
    },
    {
     "data": {
      "image/png": "[encoded data removed]",
      "text/plain": [
       "<Figure size 432x288 with 1 Axes>"
      ]
     },
     "metadata": {
      "needs_background": "light"
     },
     "output_type": "display_data"
    }
   ],
   "source": [
    "plot_decision_boundary(X,y_cat,model)\n",
    "plt.scatter(X[y==0,0],X[y==0,1])\n",
    "plt.scatter(X[y==1,0],X[y==1,1])\n",
    "plt.scatter(X[y==2,0],X[y==2,1])\n",
    "plt.scatter(X[y==3,0],X[y==3,1])\n",
    "plt.scatter(X[y==4,0],X[y==4,1])\n",
    "x=0.5\n",
    "y=0.5\n",
    "point=np.array([[x,y]])\n",
    "Prediction=model.predict_classes(point)\n",
    "plt.plot([x],[y],marker='o',markersize='10',color=\"red\")\n",
    "print('Prediction is',Prediction)\n"
   ]
  },
  {
   "cell_type": "code",
   "execution_count": null,
   "metadata": {},
   "outputs": [],
   "source": []
  }
 ],
 "metadata": {
  "kernelspec": {
   "display_name": "Python 3",
   "language": "python",
   "name": "python3"
  },
  "language_info": {
   "codemirror_mode": {
    "name": "ipython",
    "version": 3
   },
   "file_extension": ".py",
   "mimetype": "text/x-python",
   "name": "python",
   "nbconvert_exporter": "python",
   "pygments_lexer": "ipython3",
   "version": "3.7.6"
  }
 },
 "nbformat": 4,
 "nbformat_minor": 4
}
