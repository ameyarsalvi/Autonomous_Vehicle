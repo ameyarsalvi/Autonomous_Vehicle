{
 "cells": [
  {
   "cell_type": "code",
   "execution_count": 39,
   "metadata": {},
   "outputs": [
    {
     "name": "stdout",
     "output_type": "stream",
     "text": [
      "[[1 2 3 9 8 7]\n",
      " [4 5 6 6 5 4]\n",
      " [7 8 9 3 2 1]]\n"
     ]
    }
   ],
   "source": [
    "import numpy as np\n",
    "a=np.matrix([1,2,3,4,5,6,7,8,9]).reshape(3,3)\n",
    "b=np.matrix([9,8,7,6,5,4,3,2,1]).reshape(3,3)\n",
    "c=np.hstack((a,b))\n",
    "d=np.vstack((a,b))\n",
    "print(c)\n"
   ]
  },
  {
   "cell_type": "code",
   "execution_count": null,
   "metadata": {},
   "outputs": [],
   "source": []
  }
 ],
 "metadata": {
  "kernelspec": {
   "display_name": "Python 3",
   "language": "python",
   "name": "python3"
  },
  "language_info": {
   "codemirror_mode": {
    "name": "ipython",
    "version": 3
   },
   "file_extension": ".py",
   "mimetype": "text/x-python",
   "name": "python",
   "nbconvert_exporter": "python",
   "pygments_lexer": "ipython3",
   "version": "3.7.6"
  }
 },
 "nbformat": 4,
 "nbformat_minor": 4
}
