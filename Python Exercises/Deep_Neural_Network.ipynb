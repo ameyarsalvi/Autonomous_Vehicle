{
 "cells": [
  {
   "cell_type": "code",
   "execution_count": 21,
   "metadata": {},
   "outputs": [],
   "source": [
    "import numpy as np\n",
    "import matplotlib.pyplot as plt\n",
    "from sklearn import datasets\n",
    "from keras.models import Sequential\n",
    "from keras.layers import Dense\n",
    "from keras.optimizers import Adam"
   ]
  },
  {
   "cell_type": "code",
   "execution_count": 22,
   "metadata": {},
   "outputs": [],
   "source": [
    "np.random.seed(0)"
   ]
  },
  {
   "cell_type": "code",
   "execution_count": 23,
   "metadata": {},
   "outputs": [],
   "source": [
    "n_pts=500\n",
    "X,y=datasets.make_circles(n_samples=n_pts,random_state=123,noise=0.1,factor=0.2)"
   ]
  },
  {
   "cell_type": "code",
   "execution_count": 24,
   "metadata": {},
   "outputs": [
    {
     "data": {
      "text/plain": [
       "<matplotlib.collections.PathCollection at 0x213e031ab08>"
      ]
     },
     "execution_count": 24,
     "metadata": {},
     "output_type": "execute_result"
    },
    {
     "data": {
      "image/png": "[encoded data removed]",
      "text/plain": [
       "<Figure size 432x288 with 1 Axes>"
      ]
     },
     "metadata": {
      "needs_background": "light"
     },
     "output_type": "display_data"
    }
   ],
   "source": [
    "plt.scatter(X[y==0,0],X[y==0,1])\n",
    "plt.scatter(X[y==1,0],X[y==1,1])"
   ]
  },
  {
   "cell_type": "code",
   "execution_count": 25,
   "metadata": {},
   "outputs": [],
   "source": [
    "model=Sequential()\n",
    "model.add(Dense(4,input_shape=(2,),activation='sigmoid'))\n",
    "model.add(Dense(1,activation='sigmoid'))\n",
    "model.compile(Adam(lr=0.01),'binary_crossentropy',metrics=['accuracy'])\n"
   ]
  },
  {
   "cell_type": "code",
   "execution_count": 26,
   "metadata": {},
   "outputs": [
    {
     "name": "stdout",
     "output_type": "stream",
     "text": [
      "Epoch 1/100\n",
      "500/500 [==============================] - 0s 290us/step - loss: 0.6969 - accuracy: 0.4360\n",
      "Epoch 2/100\n",
      "500/500 [==============================] - 0s 73us/step - loss: 0.6947 - accuracy: 0.5820\n",
      "Epoch 3/100\n",
      "500/500 [==============================] - 0s 90us/step - loss: 0.6938 - accuracy: 0.5160\n",
      "Epoch 4/100\n",
      "500/500 [==============================] - 0s 87us/step - loss: 0.6928 - accuracy: 0.6340\n",
      "Epoch 5/100\n",
      "500/500 [==============================] - 0s 80us/step - loss: 0.6921 - accuracy: 0.5660\n",
      "Epoch 6/100\n",
      "500/500 [==============================] - 0s 78us/step - loss: 0.6911 - accuracy: 0.3700\n",
      "Epoch 7/100\n",
      "500/500 [==============================] - 0s 78us/step - loss: 0.6897 - accuracy: 0.6280\n",
      "Epoch 8/100\n",
      "500/500 [==============================] - 0s 84us/step - loss: 0.6886 - accuracy: 0.6600\n",
      "Epoch 9/100\n",
      "500/500 [==============================] - 0s 80us/step - loss: 0.6865 - accuracy: 0.6200\n",
      "Epoch 10/100\n",
      "500/500 [==============================] - 0s 76us/step - loss: 0.6833 - accuracy: 0.7000\n",
      "Epoch 11/100\n",
      "500/500 [==============================] - 0s 80us/step - loss: 0.6801 - accuracy: 0.6920\n",
      "Epoch 12/100\n",
      "500/500 [==============================] - 0s 60us/step - loss: 0.6746 - accuracy: 0.6860\n",
      "Epoch 13/100\n",
      "500/500 [==============================] - 0s 119us/step - loss: 0.6683 - accuracy: 0.7660\n",
      "Epoch 14/100\n",
      "500/500 [==============================] - 0s 80us/step - loss: 0.6609 - accuracy: 0.7940\n",
      "Epoch 15/100\n",
      "500/500 [==============================] - 0s 85us/step - loss: 0.6495 - accuracy: 0.7920\n",
      "Epoch 16/100\n",
      "500/500 [==============================] - 0s 118us/step - loss: 0.6376 - accuracy: 0.8000\n",
      "Epoch 17/100\n",
      "500/500 [==============================] - 0s 100us/step - loss: 0.6251 - accuracy: 0.8280\n",
      "Epoch 18/100\n",
      "500/500 [==============================] - 0s 100us/step - loss: 0.6077 - accuracy: 0.8000\n",
      "Epoch 19/100\n",
      "500/500 [==============================] - 0s 104us/step - loss: 0.5913 - accuracy: 0.8480\n",
      "Epoch 20/100\n",
      "500/500 [==============================] - 0s 98us/step - loss: 0.5704 - accuracy: 0.8460\n",
      "Epoch 21/100\n",
      "500/500 [==============================] - 0s 88us/step - loss: 0.5496 - accuracy: 0.8340\n",
      "Epoch 22/100\n",
      "500/500 [==============================] - 0s 82us/step - loss: 0.5275 - accuracy: 0.8620\n",
      "Epoch 23/100\n",
      "500/500 [==============================] - 0s 83us/step - loss: 0.5042 - accuracy: 0.8740\n",
      "Epoch 24/100\n",
      "500/500 [==============================] - 0s 84us/step - loss: 0.4813 - accuracy: 0.8760\n",
      "Epoch 25/100\n",
      "500/500 [==============================] - 0s 76us/step - loss: 0.4584 - accuracy: 0.8860\n",
      "Epoch 26/100\n",
      "500/500 [==============================] - 0s 78us/step - loss: 0.4355 - accuracy: 0.8920\n",
      "Epoch 27/100\n",
      "500/500 [==============================] - 0s 76us/step - loss: 0.4132 - accuracy: 0.8940\n",
      "Epoch 28/100\n",
      "500/500 [==============================] - 0s 78us/step - loss: 0.3918 - accuracy: 0.9220\n",
      "Epoch 29/100\n",
      "500/500 [==============================] - 0s 76us/step - loss: 0.3703 - accuracy: 0.9240\n",
      "Epoch 30/100\n",
      "500/500 [==============================] - 0s 84us/step - loss: 0.3502 - accuracy: 0.9380\n",
      "Epoch 31/100\n",
      "500/500 [==============================] - 0s 84us/step - loss: 0.3308 - accuracy: 0.9440\n",
      "Epoch 32/100\n",
      "500/500 [==============================] - 0s 160us/step - loss: 0.3122 - accuracy: 0.9620\n",
      "Epoch 33/100\n",
      "500/500 [==============================] - 0s 131us/step - loss: 0.2951 - accuracy: 0.9640\n",
      "Epoch 34/100\n",
      "500/500 [==============================] - 0s 76us/step - loss: 0.2787 - accuracy: 0.9660\n",
      "Epoch 35/100\n",
      "500/500 [==============================] - ETA: 0s - loss: 0.2261 - accuracy: 1.00 - 0s 76us/step - loss: 0.2633 - accuracy: 0.9780\n",
      "Epoch 36/100\n",
      "500/500 [==============================] - 0s 97us/step - loss: 0.2485 - accuracy: 0.9780\n",
      "Epoch 37/100\n",
      "500/500 [==============================] - 0s 92us/step - loss: 0.2352 - accuracy: 0.9820\n",
      "Epoch 38/100\n",
      "500/500 [==============================] - 0s 108us/step - loss: 0.2229 - accuracy: 0.9840\n",
      "Epoch 39/100\n",
      "500/500 [==============================] - 0s 140us/step - loss: 0.2108 - accuracy: 0.9900\n",
      "Epoch 40/100\n",
      "500/500 [==============================] - 0s 152us/step - loss: 0.2000 - accuracy: 0.9960\n",
      "Epoch 41/100\n",
      "500/500 [==============================] - 0s 140us/step - loss: 0.1898 - accuracy: 0.9960\n",
      "Epoch 42/100\n",
      "500/500 [==============================] - 0s 92us/step - loss: 0.1806 - accuracy: 0.9980\n",
      "Epoch 43/100\n",
      "500/500 [==============================] - 0s 71us/step - loss: 0.1718 - accuracy: 1.0000\n",
      "Epoch 44/100\n",
      "500/500 [==============================] - 0s 90us/step - loss: 0.1640 - accuracy: 1.0000\n",
      "Epoch 45/100\n",
      "500/500 [==============================] - 0s 84us/step - loss: 0.1563 - accuracy: 1.0000\n",
      "Epoch 46/100\n",
      "500/500 [==============================] - 0s 82us/step - loss: 0.1492 - accuracy: 1.0000\n",
      "Epoch 47/100\n",
      "500/500 [==============================] - 0s 84us/step - loss: 0.1425 - accuracy: 1.0000\n",
      "Epoch 48/100\n",
      "500/500 [==============================] - 0s 98us/step - loss: 0.1363 - accuracy: 1.0000\n",
      "Epoch 49/100\n",
      "500/500 [==============================] - 0s 91us/step - loss: 0.1305 - accuracy: 1.0000\n",
      "Epoch 50/100\n",
      "500/500 [==============================] - 0s 141us/step - loss: 0.1251 - accuracy: 1.0000\n",
      "Epoch 51/100\n",
      "500/500 [==============================] - 0s 92us/step - loss: 0.1200 - accuracy: 1.0000\n",
      "Epoch 52/100\n",
      "500/500 [==============================] - 0s 82us/step - loss: 0.1152 - accuracy: 1.0000\n",
      "Epoch 53/100\n",
      "500/500 [==============================] - 0s 78us/step - loss: 0.1108 - accuracy: 1.0000\n",
      "Epoch 54/100\n",
      "500/500 [==============================] - 0s 90us/step - loss: 0.1065 - accuracy: 1.0000\n",
      "Epoch 55/100\n",
      "500/500 [==============================] - 0s 108us/step - loss: 0.1025 - accuracy: 1.0000\n",
      "Epoch 56/100\n",
      "500/500 [==============================] - 0s 82us/step - loss: 0.0988 - accuracy: 1.0000\n",
      "Epoch 57/100\n",
      "500/500 [==============================] - 0s 90us/step - loss: 0.0952 - accuracy: 1.0000\n",
      "Epoch 58/100\n",
      "500/500 [==============================] - 0s 82us/step - loss: 0.0917 - accuracy: 1.0000\n",
      "Epoch 59/100\n",
      "500/500 [==============================] - 0s 82us/step - loss: 0.0887 - accuracy: 1.0000\n",
      "Epoch 60/100\n",
      "500/500 [==============================] - 0s 78us/step - loss: 0.0855 - accuracy: 1.0000\n",
      "Epoch 61/100\n",
      "500/500 [==============================] - 0s 68us/step - loss: 0.0827 - accuracy: 1.0000\n",
      "Epoch 62/100\n",
      "500/500 [==============================] - 0s 80us/step - loss: 0.0799 - accuracy: 1.0000\n",
      "Epoch 63/100\n",
      "500/500 [==============================] - 0s 76us/step - loss: 0.0774 - accuracy: 1.0000\n",
      "Epoch 64/100\n",
      "500/500 [==============================] - 0s 74us/step - loss: 0.0749 - accuracy: 1.0000\n",
      "Epoch 65/100\n",
      "500/500 [==============================] - 0s 78us/step - loss: 0.0725 - accuracy: 1.0000\n",
      "Epoch 66/100\n",
      "500/500 [==============================] - 0s 76us/step - loss: 0.0703 - accuracy: 1.0000\n",
      "Epoch 67/100\n",
      "500/500 [==============================] - 0s 45us/step - loss: 0.0682 - accuracy: 1.0000\n",
      "Epoch 68/100\n",
      "500/500 [==============================] - 0s 62us/step - loss: 0.0662 - accuracy: 1.0000\n",
      "Epoch 69/100\n",
      "500/500 [==============================] - 0s 94us/step - loss: 0.0642 - accuracy: 1.0000\n",
      "Epoch 70/100\n",
      "500/500 [==============================] - 0s 98us/step - loss: 0.0623 - accuracy: 1.0000\n",
      "Epoch 71/100\n",
      "500/500 [==============================] - 0s 41us/step - loss: 0.0605 - accuracy: 1.0000\n",
      "Epoch 72/100\n",
      "500/500 [==============================] - 0s 119us/step - loss: 0.0588 - accuracy: 1.0000\n",
      "Epoch 73/100\n",
      "500/500 [==============================] - 0s 210us/step - loss: 0.0572 - accuracy: 1.0000\n",
      "Epoch 74/100\n",
      "500/500 [==============================] - 0s 106us/step - loss: 0.0556 - accuracy: 1.0000\n",
      "Epoch 75/100\n",
      "500/500 [==============================] - 0s 100us/step - loss: 0.0541 - accuracy: 1.0000\n",
      "Epoch 76/100\n",
      "500/500 [==============================] - 0s 94us/step - loss: 0.0526 - accuracy: 1.0000\n",
      "Epoch 77/100\n",
      "500/500 [==============================] - 0s 86us/step - loss: 0.0513 - accuracy: 1.0000\n",
      "Epoch 78/100\n",
      "500/500 [==============================] - 0s 96us/step - loss: 0.0500 - accuracy: 1.0000\n",
      "Epoch 79/100\n",
      "500/500 [==============================] - 0s 104us/step - loss: 0.0487 - accuracy: 1.0000\n",
      "Epoch 80/100\n",
      "500/500 [==============================] - 0s 98us/step - loss: 0.0474 - accuracy: 1.0000\n",
      "Epoch 81/100\n",
      "500/500 [==============================] - 0s 94us/step - loss: 0.0462 - accuracy: 1.0000\n",
      "Epoch 82/100\n",
      "500/500 [==============================] - 0s 88us/step - loss: 0.0451 - accuracy: 1.0000\n",
      "Epoch 83/100\n",
      "500/500 [==============================] - 0s 90us/step - loss: 0.0440 - accuracy: 1.0000\n",
      "Epoch 84/100\n",
      "500/500 [==============================] - 0s 102us/step - loss: 0.0429 - accuracy: 1.0000\n",
      "Epoch 85/100\n",
      "500/500 [==============================] - 0s 90us/step - loss: 0.0419 - accuracy: 1.0000\n",
      "Epoch 86/100\n",
      "500/500 [==============================] - 0s 94us/step - loss: 0.0410 - accuracy: 1.0000\n",
      "Epoch 87/100\n",
      "500/500 [==============================] - 0s 96us/step - loss: 0.0400 - accuracy: 1.0000\n",
      "Epoch 88/100\n",
      "500/500 [==============================] - 0s 90us/step - loss: 0.0390 - accuracy: 1.0000\n",
      "Epoch 89/100\n",
      "500/500 [==============================] - 0s 96us/step - loss: 0.0382 - accuracy: 1.0000\n",
      "Epoch 90/100\n",
      "500/500 [==============================] - 0s 88us/step - loss: 0.0373 - accuracy: 1.0000\n",
      "Epoch 91/100\n",
      "500/500 [==============================] - 0s 90us/step - loss: 0.0365 - accuracy: 1.0000\n",
      "Epoch 92/100\n",
      "500/500 [==============================] - 0s 84us/step - loss: 0.0357 - accuracy: 1.0000\n",
      "Epoch 93/100\n",
      "500/500 [==============================] - 0s 90us/step - loss: 0.0349 - accuracy: 1.0000\n",
      "Epoch 94/100\n",
      "500/500 [==============================] - 0s 84us/step - loss: 0.0341 - accuracy: 1.0000\n",
      "Epoch 95/100\n",
      "500/500 [==============================] - 0s 88us/step - loss: 0.0334 - accuracy: 1.0000\n",
      "Epoch 96/100\n",
      "500/500 [==============================] - 0s 90us/step - loss: 0.0327 - accuracy: 1.0000\n",
      "Epoch 97/100\n",
      "500/500 [==============================] - 0s 88us/step - loss: 0.0321 - accuracy: 1.0000\n",
      "Epoch 98/100\n",
      "500/500 [==============================] - 0s 84us/step - loss: 0.0313 - accuracy: 1.0000\n",
      "Epoch 99/100\n",
      "500/500 [==============================] - 0s 86us/step - loss: 0.0308 - accuracy: 1.0000\n",
      "Epoch 100/100\n",
      "500/500 [==============================] - 0s 90us/step - loss: 0.0301 - accuracy: 1.0000\n"
     ]
    }
   ],
   "source": [
    "h=model.fit(x=X,y=y,verbose=1,batch_size=20,epochs=100,shuffle='true')"
   ]
  },
  {
   "cell_type": "code",
   "execution_count": 27,
   "metadata": {},
   "outputs": [
    {
     "data": {
      "text/plain": [
       "Text(0.5, 1.0, 'accuracy')"
      ]
     },
     "execution_count": 27,
     "metadata": {},
     "output_type": "execute_result"
    },
    {
     "data": {
      "image/png": "[encoded data removed]",
      "text/plain": [
       "<Figure size 432x288 with 1 Axes>"
      ]
     },
     "metadata": {
      "needs_background": "light"
     },
     "output_type": "display_data"
    }
   ],
   "source": [
    "plt.plot(h.history['accuracy'])\n",
    "plt.xlabel('epoch')\n",
    "plt.ylabel('accuracy')\n",
    "plt.title('accuracy')"
   ]
  },
  {
   "cell_type": "code",
   "execution_count": 28,
   "metadata": {},
   "outputs": [
    {
     "data": {
      "text/plain": [
       "Text(0.5, 1.0, 'loss')"
      ]
     },
     "execution_count": 28,
     "metadata": {},
     "output_type": "execute_result"
    },
    {
     "data": {
      "image/png": "[encoded data removed]",
      "text/plain": [
       "<Figure size 432x288 with 1 Axes>"
      ]
     },
     "metadata": {
      "needs_background": "light"
     },
     "output_type": "display_data"
    }
   ],
   "source": [
    "plt.plot(h.history['loss'])\n",
    "plt.xlabel('epoch')\n",
    "plt.ylabel('loss')\n",
    "plt.title('loss')"
   ]
  },
  {
   "cell_type": "code",
   "execution_count": 32,
   "metadata": {},
   "outputs": [],
   "source": [
    "def plot_decision_boundary(X,y,model):\n",
    "    x_span=np.linspace(min(X[:,0])-0.25,max(X[:,0])+0.25)\n",
    "    y_span=np.linspace(min(X[:,1])-0.25,max(X[:,1])+0.25)\n",
    "    xx,yy=np.meshgrid(x_span,y_span)\n",
    "    xx_,yy_=xx.ravel(),yy.ravel()\n",
    "    grid=np.c_[xx_,yy_]\n",
    "    pred_func=model.predict(grid)\n",
    "    z=pred_func.reshape(xx.shape)\n",
    "    plt.contourf(xx,yy,z)"
   ]
  },
  {
   "cell_type": "code",
   "execution_count": 35,
   "metadata": {},
   "outputs": [
    {
     "data": {
      "text/plain": [
       "<matplotlib.collections.PathCollection at 0x213e0675708>"
      ]
     },
     "execution_count": 35,
     "metadata": {},
     "output_type": "execute_result"
    },
    {
     "data": {
      "image/png": "[encoded data removed]",
      "text/plain": [
       "<Figure size 432x288 with 1 Axes>"
      ]
     },
     "metadata": {
      "needs_background": "light"
     },
     "output_type": "display_data"
    }
   ],
   "source": [
    "plot_decision_boundary(X,y,model)\n",
    "plt.scatter(X[:n_pts,0], X[:n_pts,1])\n",
    "plt.scatter(X[n_pts:,0], X[n_pts:,1])\n",
    "\n"
   ]
  },
  {
   "cell_type": "code",
   "execution_count": null,
   "metadata": {},
   "outputs": [],
   "source": []
  }
 ],
 "metadata": {
  "kernelspec": {
   "display_name": "Python 3",
   "language": "python",
   "name": "python3"
  },
  "language_info": {
   "codemirror_mode": {
    "name": "ipython",
    "version": 3
   },
   "file_extension": ".py",
   "mimetype": "text/x-python",
   "name": "python",
   "nbconvert_exporter": "python",
   "pygments_lexer": "ipython3",
   "version": "3.7.6"
  }
 },
 "nbformat": 4,
 "nbformat_minor": 4
}
